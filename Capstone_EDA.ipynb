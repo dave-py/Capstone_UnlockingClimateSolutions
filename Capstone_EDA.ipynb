{
 "cells": [
  {
   "cell_type": "markdown",
   "metadata": {},
   "source": [
    "![title image](figures/cdp-logo_16_9_capstone.png)\n",
    "\n",
    "# 1. Business Understanding\n",
    "Ask relevant questions and define objectives for the problem that needs to be tackled\n",
    "\n",
    "## 1.1 About CDP\n",
    "CDP is a global non-profit that drives companies and governments to reduce their greenhouse gas emissions, safeguard water resources, and protect forests. Each year, CDP takes the information supplied in its annual reporting process and scores companies and cities based on their journey through disclosure and towards environmental leadership.\n",
    "\n",
    "CDP houses the world’s largest, most comprehensive dataset on environmental action. As the data grows to include thousands more companies and cities each year, there is increasing potential for the data to be utilized in impactful ways. Because of this potential, CDP is excited to launch an analytics challenge for the Kaggle community. Data scientists will scour environmental information provided to CDP by disclosing companies and cities, searching for solutions to our most pressing problems related to climate change, water security, deforestation, and social inequity.\n",
    "\n",
    "## 1.2 Questions\n",
    "- How do you help cities adapt to a rapidly changing climate amidst a global pandemic, but do it in a way that is socially equitable?\n",
    "- What are the projects that can be invested in that will help pull cities out of a recession, mitigate climate issues, but not perpetuate racial/social inequities?\n",
    "- What are the practical and actionable points where city and corporate ambition join, i.e. where do cities have problems that corporations affected by those problems could solve, and vice versa?\n",
    "- How can we measure the intersection between environmental risks and social equity, as a contributor to resiliency?\n",
    "\n",
    "## 1.3 Problem Statement\n",
    "Develop a methodology for calculating key performance indicators (KPIs) that relate to the environmental and social issues that are discussed in the CDP survey data. Leverage external data sources and thoroughly discuss the intersection between environmental issues and social issues. Mine information to create automated insight generation demonstrating whether city and corporate ambitions take these factors into account.\n",
    "\n",
    "## 1.4 Project Goal\n",
    "We develop relevant KPIs to help cities and companies optimise and communicate their own climate protection strategy. The aim is to identify and visualise activities and projects that strike the best possible balance between climate protection and aspects of social justice. We rely on an extensive Exploratory Data Analysis of the CDP-Surveys with more than 1.5 million annual observations. A main focus of our work is the generation of new features and the explanation of the insights gained from them. For the interpretation and classification of unstructured free text responses we use NLP / Sentiment Analysis techniques. We use cluster algorithms to show the connections between social justice and environmental protection, as well as between the interests of the public sector and private companies.\n",
    "\n",
    "## 1.5 Evaluations\n",
    "**Accuracy/Completeness**\n",
    "- Did the author develop one or more key performance indicators (KPIs)?\n",
    "- Did the author provide a way of assessing the performance and accuracy of their solution?\n",
    "- Are the KPIs useful for discussing relationships between social issues and environmental issues and demonstrating whether city and corporate ambitions take these factors into account?\n",
    "- Do the KPIs accurately reflect the underlying data?  \n",
    "\n",
    "**Communication**\n",
    "- Does the notebook have a compelling and coherent narrative?\n",
    "- Does the notebook contain data visualizations that help to communicate the author’s main points?\n",
    "- Did the author include a thorough discussion on the intersection between environmental issues and social issues?\n",
    "- Was there discussion of automated insight generation, demonstrating whether city and corporate ambitions take these factors into account?  \n",
    "\n",
    "**Documentation**\n",
    "- Is the code documented in a way that makes it easy to understand and reproduce?\n",
    "- Were all external sources of data made public and cited appropriately?"
   ]
  },
  {
   "cell_type": "markdown",
   "metadata": {},
   "source": [
    "# 2. Dataset Details\n",
    "\n",
    "## 2.1 Origin of the dataset\n",
    "Explain...\n",
    "\n",
    "## 2.2 Directory and File-structure\n",
    "![title image](figures/CDP_dataset.png)\n",
    "\n",
    "## 2.3 Feature Glossary\n",
    "\n",
    "### 2.3.1 Cities Disclosing\n",
    "- **Year Reported to CDP:** Cities Disclosure cycle survey year  \n",
    "- **Account Number:** The unique identifier given to every city organisation that receives a request to complete a CDP questionnaire  \n",
    "- **Organization:** Name of the City organisation disclosing  \n",
    "- **City:** Name of the City the city organisation is disclosing on behalf of  \n",
    "- **Country:** Country of city  \n",
    "- **CDP Region:** CDP operation region City is located within  \n",
    "- **Reporting Authority:** \"CDP collects information on behalf of a number of additional initiatives. Other than CDP Cities, organisations can indicate the additional initiatve they are have answered questions for \",\"C40,CDP Cities,ICLEI - Local Governments for Sustainability\",\"Includes Global Covenant of Mayors for Climate and Energy, ICLEI Green Climate Cities, ICLEI Ecomobility / Ecologistics, C40 Cities Climate Leadership Group\"  \n",
    "- **Access:** Cities can submit CDP response in public status or in non public status. Non public responses can only be shared within CDP and between signatory partners. Public responses can be shared beyond CDP City organisations,public  \n",
    "- **First Time Discloser:** Is the City disclosing for the first time to CDP  \n",
    "- **Population:** Citiy population estimate  \n",
    "- **Population Year:** City population estimate year  \n",
    "- **City Location:** \"Citty location cordinates by longitude, latitide\"  \n",
    "- **Last update:** Resonse record last update  \n",
    "\n",
    "### 2.3.2 Cities Responses\n",
    "- **Questionnaire:** Questionnaire and questionnaire year the company's response relates to\n",
    "- **Year Reported to CDP:** Cities Disclosure cycle survey year  \n",
    "- **Account Number:** The unique identifier given to every city organisation that receives a request to complete a CDP questionnaire  \n",
    "- **Organization:** Name of the City organisation disclosing  \n",
    "- **Country:** Country of city    \n",
    "- **CDP Region:** CDP operation region City is located within  \n",
    "- **Parent Section:** Module ('Parent Section') of the CDP questionnaire the question belongs to (e.g. Emissions Reduction)  \n",
    "- **Section:** Section of the CDP questionnaire the question belongs to (e.g.Mitigation Actions)  \n",
    "- **Question Number:** Question number of response (e.g. 5.4) \n",
    "- **Question Name:** Describes the anticipated outcomes of the most impactful mitigation actions your city is currently undertaking; the total cost of the action and how much is being funded by the local government \n",
    "- **Column Number:** Column number of matrix set (Table) or matrix dynamic (Add Rows Table) column in question  reponse table  \n",
    "- **Column Name:** Column name of matrix set (Table) or matrix dynamic (Add Rows Table) column in question  reponse table,Co-benefit area \n",
    "- **Row Number:** \"Row number of matrix set (Table) or matrix dynamic (Add Rows Table) row in question  reponse table. If originally submitted in a table format, this will indicate the number of rows of response data has been entered in response to a question. \",  \n",
    "- **Row Name:** Row name of matrix set (Table) or matrix dynamic (Add Rows Table) row in question  reponse table. Description of data type for RowNumber where applicable, Population that is food insecure)  \n",
    "- **Response Answer:** Question response submitted by company,Greening the economy,\"Can range from string, integar and double data types. Question not applicable = This question was not presented to the company to be answered due to conditional logic in the questionnaire. NA = The company was presented with this question but did not respond\" \n",
    "\n",
    "### 2.3.3 Corporates Disclosing\n",
    "- **account_number:** The unique identifier given to every company that receives a request to complete a CDP questionnaire.\n",
    "- **organization:** Name of the company disclosing.\n",
    "- **survey_year:** Disclosure cycle survey year. (E.g. survey year 2020 ran from March 2020 - September 2020)\n",
    "- **country:** Country in which the company is incorporated or legally registered.\n",
    "- **region:** CDP operating region in which the company is incorporated or legally registered.\n",
    "- **invitation_status:** CDP invites companies to disclose to the Investor request. If they choose to disclose, they will appear as \"\"submitted\"\".\n",
    "- **public:** Companies can submit CDP response in public status or in non public status. Non public responses can only be shared within CDP. Public responses can be shared beyond CDP investor signatories.\n",
    "- **samples:** CDP uses Market Cap from major indices and other environmental factors to help determine who should be requested to respond. Company's are distributed among sample groups to group similar organisations for targetted  invitations to disclose etc.(Continuity, Companies that disclosed the previous year are automatically requested to disclose the following year.)\n",
    "- **response_received_date:** DateTime company response was first received within CDP response systems,2018-08-15T00:00:00Z\n",
    "- **minimum_tier:** Indicates if the highest questionnaire tier a company has responded to. Company's can choose or are requested to submit to a shorter 'Minimum tier' questionnaire or a more in-depth 'Full tier' questionnaire with extended questions. Certain questions are therefore only available in the Full questionnaire.\n",
    "- **selected_tier:** Indicates if the questionnaire tier a company has responded to. Company's can choose or are requested to submit to a shorter 'Minimum tier' questionnaire or a more in-depth 'Full tier' questionnaire with extended questions.  Certain questions are therefore only available in the Full questionnaire. \n",
    "- **questionnaire:** Questionnaire and questionnaire year the company's response relates to.\n",
    "- **theme:** Questionnaire Theme the company's response relates to.\n",
    "- **authority_types:** Company's can be requested to respond to the CDP questionnaire by either/both CDP investor signatories and CDP Supply Chain members as suppliers that constititute their supply chain operations.\n",
    "- **activities:** CDP Activity Classification System categorizes companies according to their different business streams, revenue and impact on the environment. All  company's potential  business activities based on revenue, within the CDP Activity Classification System (e.g. Aluminium refining, Aluminum, Engines & motors, Fabricated metal components, Other vehicle equipment & systems). \n",
    "- **sectors:** CDP Activity Classification System categorizes companies according to their different business streams, revenue and impact on the environment. All  company's  potential business sectors based on revenue, within the CDP Activity Classification System (e.g. Metal products manufacturing, Metal smelting, refining & forming, Powered machinery). \n",
    "- **industries:** CDP Activity Classification System categorizes companies according to their different business streams, revenue and impact on the environment.  All  company's  potential business industries based on revenue, within the CDP Activity Classification System (e.g. Manufacturing, Materials).\n",
    "- **primary_activity:** CDP Activity Classification System categorizes companies according to their different business streams, revenue and impact on the environment. A company's primary business activity based on revenue; the most specific classification of three tiers in the CDP Activity Classification System.\n",
    "- **primary_sector:** CDP Activity Classification System categorizes companies according to their different business streams, revenue and impact on the environment. A company's primary business sector based on revenue; the second most specific classification of three tiers in the CDP Activity Classification System (e.g. Powered machinery)\n",
    "- **primary_industry:** CDP Activity Classification System categorizes companies according to their different business streams, revenue and impact on the environment. A company's primary industry based on revenue; the broadest classification of three tiers in the CDP Activity Classification System.\n",
    "- **primary_questionnaire_sector:** Describes the sector-specific questionnaire that was provided to the company based on their largest activity, if this version of the general questoinnaire was available.\n",
    "- **primary_ticker:** Financial  Market identifier for company.\n",
    "- **tickers:** Market identifiers (if more than one).\n",
    "\n",
    "### 2.3.4 Corporates Responses\n",
    "- **account_number:** The unique identifier given to every company that receives a request to complete a CDP questionnaire.\n",
    "- **organization:** Name of the company disclosing.\n",
    "- **survey_year:** Disclosure cycle survey year. \n",
    "- **response_received_date:** DateTime company response was first received within CDP response systems.\n",
    "- **accounting_period_to:** Accounting year end for the survey responses provided by the Company.\n",
    "- **ors_response_id:** Response Identifier for all responses belonging to that company and theme.\n",
    "- **submission_date:** DateTime company response was finalised and submitted to CDP with no further amendments.\n",
    "- **page_name:** Section of the CDP questionnaire the question belongs to.\n",
    "- **module_name:** Module ('Parent Section') of the CDP questionnaire the question belongs to e.g.Questions.\n",
    "- **question_number:** Question number of response.\n",
    "- **question_unique_reference:** Question name.\n",
    "- **colmn_number:** Column number of matrix set (Table) or matrix dynamic (Add Rows Table) column in question  reponse table.\n",
    "- **column_name:** Column name of matrix set (Table) or matrix dynamic (Add Rows Table) column in question  reponse table.\n",
    "- **table_columns_unique_reference:** Column name and number combination modified with '-' seperator from column_name, providing unique column identifer for each question response.\n",
    "- **row_number:** Row number of matrix set (Table) or matrix dynamic (Add Rows Table) row in question  reponse table. If originally submitted in a table format, this will indicate the number of rows of response data has been entered in response to a question.\n",
    "- **row_name:** Row name of matrix set (Table) or matrix dynamic (Add Rows Table) row in question  reponse table. Description of data type for RowNumber where applicable (i.e. Scope 3 emissions category).\n",
    "- **data_point_name:** Question number_Column number_Question Name - Column Name string identifier.\n",
    "- **data_point_id:** Unique identifier for Question Column Response.\n",
    "- **response_value:** Question response submitted by company.\n",
    "- **comments:** Added response clarifications from Company or CDP staff.\n",
    "\n",
    "## 2.4 Dataframe Description\n",
    "- **df_cities_disc** - Originally imported dataset. Combines ...\n",
    "- **df_cities_resp** - Originally imported dataset. Combines ...\n",
    "- **df_corp_disc** - Originally imported dataset. Combines ...\n",
    "- **df_corp_resp** - Originally imported dataset. Combines ...\n",
    "\n",
    "- **cid_raw** - Originally imported dataset. Combines ...\n",
    "- **cir_raw** - Originally imported dataset. Combines ...\n",
    "- **cod_raw** - Originally imported dataset. Combines ...\n",
    "- **cor_raw** - Originally imported dataset. Combines ...\n",
    "\n",
    "- **cid_w** - DataFrame for working ...\n",
    "- **cir_w** - DataFrame for working ...\n",
    "- **cod_w** - DataFrame for working ...\n",
    "- **cor_w** - DataFrame for working ...\n",
    "\n",
    "- **cid_cl** - Copy of ... used for Data Exploration\n",
    "- **cir_cl** - Copy of ... used for Data Exploration\n",
    "- **cod_cl** - Copy of ... used for Data Exploration\n",
    "- **cor_cl** - Copy of ... used for Data Exploration"
   ]
  },
  {
   "cell_type": "markdown",
   "metadata": {},
   "source": [
    "# 3. Environment Set-Up\n",
    "## 3.1 Imports"
   ]
  },
  {
   "cell_type": "code",
   "execution_count": null,
   "metadata": {},
   "outputs": [],
   "source": [
    "# standard imports\n",
    "import pandas as pd\n",
    "import numpy as np\n",
    "\n",
    "#specific libaries\n",
    "import glob                                     # read all csv files in the directory\n",
    "import os                                       # for using OS functions\n",
    "import warnings                                 # import pandas_profiling # needs prior install\n",
    "\n",
    "#ML - PreProcessing\n",
    "from sklearn.utils import resample"
   ]
  },
  {
   "cell_type": "markdown",
   "metadata": {},
   "source": [
    "## 3.2 Global Variables and Settings"
   ]
  },
  {
   "cell_type": "code",
   "execution_count": null,
   "metadata": {},
   "outputs": [],
   "source": [
    "#warnings.filterwarnings('ignore')               # for suppression of depricated messages\n",
    "RSEED = 42                                      # for replicability purposes"
   ]
  },
  {
   "cell_type": "markdown",
   "metadata": {},
   "source": [
    "## 3.3 Global Functions"
   ]
  },
  {
   "cell_type": "code",
   "execution_count": null,
   "metadata": {},
   "outputs": [],
   "source": [
    "# First, we start by importing the different csv files and continue by concatenating the files into one dataframe.\n",
    "def get_data(path, filename_start):\n",
    "    '''a function to store the content of a directory into a pd dataframe'''\n",
    "    \n",
    "    # checking the contents of the directory using the os-module. \n",
    "    files = [\n",
    "        file for file in os.listdir(path) \n",
    "        if file.startswith(filename_start)\n",
    "        ]\n",
    "    \n",
    "    print(files)  \n",
    "    \n",
    "    # iterate through files and add to the data frame\n",
    "    all_data = pd.DataFrame()\n",
    "    for file in files:\n",
    "        current_data = pd.read_csv(path+\"/\"+file, dtype={'comments': str})\n",
    "        all_data = pd.concat([all_data, current_data], ignore_index=True)\n",
    "\n",
    "    # remove whitespaces from column names\n",
    "    all_data.columns = all_data.columns.str.replace(' ', '')\n",
    "        \n",
    "    print(f'''A dataframe with {all_data.shape[0]} rows and {all_data.shape[1]} columns has been created!\\nAll whitespace in column names has been removed.''')\n",
    "    \n",
    "    return all_data"
   ]
  },
  {
   "cell_type": "code",
   "execution_count": null,
   "metadata": {},
   "outputs": [],
   "source": [
    "def meta(df, transpose=True):\n",
    "    \"\"\"\n",
    "    This function returns a dataframe that lists:\n",
    "    - column names\n",
    "    - nulls abs\n",
    "    - nulls rel\n",
    "    - dtype\n",
    "    - duplicates\n",
    "    - number of diffrent values (nunique)\n",
    "    \"\"\"\n",
    "    metadata = []\n",
    "    dublicates = sum([])\n",
    "    for elem in df.columns:\n",
    "\n",
    "        # Counting null values and percantage\n",
    "        null = df[elem].isnull().sum()\n",
    "        rel_null = round(null/df.shape[0]*100, 2)\n",
    "\n",
    "        # Defining the data type\n",
    "        dtype = df[elem].dtype\n",
    "\n",
    "        # Check dublicates\n",
    "        duplicates = df[elem].duplicated().any()\n",
    "\n",
    "        # Check number of nunique vales\n",
    "        nuniques = df[elem].nunique()\n",
    "\n",
    "\n",
    "        # Creating a Dict that contains all the metadata for the variable\n",
    "        elem_dict = {\n",
    "            'varname': elem,\n",
    "            'nulls': null,\n",
    "            'percent': rel_null,\n",
    "            'dtype': dtype,\n",
    "            'dup': duplicates,\n",
    "            'nuniques': nuniques\n",
    "        }\n",
    "        metadata.append(elem_dict)\n",
    "\n",
    "    meta = pd.DataFrame(metadata, columns=['varname', 'nulls', 'percent', 'dtype', 'dup', 'nuniques'])\n",
    "    meta.set_index('varname', inplace=True)\n",
    "    meta = meta.sort_values(by=['nulls'], ascending=False)\n",
    "    if transpose:\n",
    "        return meta.transpose()\n",
    "    print(f\"Shape: {df.shape}\")\n",
    "\n",
    "    return metadata"
   ]
  },
  {
   "cell_type": "markdown",
   "metadata": {},
   "source": [
    "# 4. Data Mining\n",
    "Gather and scrape the data necessary for the project"
   ]
  },
  {
   "cell_type": "code",
   "execution_count": null,
   "metadata": {},
   "outputs": [],
   "source": [
    "# Cities Disclosing (combining the years 2018, 2019 and 2020)\n",
    "path = 'data/Cities/Disclosing/'\n",
    "filename_start = '20'\n",
    "df_cities_disc = get_data(path, filename_start)\n",
    "cid = df_cities_disc\n",
    "#cid.head()"
   ]
  },
  {
   "cell_type": "code",
   "execution_count": null,
   "metadata": {},
   "outputs": [],
   "source": [
    "# Cities Responses (combining the years 2018, 2019 and 2020)\n",
    "path = 'data/Cities/Responses'\n",
    "filename_start = '20'\n",
    "df_cities_resp = get_data(path, filename_start)\n",
    "cir = df_cities_resp\n",
    "#cir.head()"
   ]
  },
  {
   "cell_type": "code",
   "execution_count": null,
   "metadata": {},
   "outputs": [],
   "source": [
    "# Corporations Disclosing  (combining Climate_Change and Water_Security with the years 2018, 2019 and 2020)\n",
    "path = 'data/Corporations/Disclosing/'\n",
    "filename_start = '20'\n",
    "df_corp_disc = get_data(path, filename_start)\n",
    "cod = df_corp_disc\n",
    "#cod.head()"
   ]
  },
  {
   "cell_type": "code",
   "execution_count": null,
   "metadata": {},
   "outputs": [],
   "source": [
    "# Corporations Responses  (combining Climate_Change and Water_Security with the years 2018, 2019 and 2020)\n",
    "path = 'data/Corporations/Responses/'\n",
    "filename_start = '20'\n",
    "df_corp_resp = get_data(path, filename_start)\n",
    "cor = df_corp_resp\n",
    "#cor.head()"
   ]
  },
  {
   "cell_type": "markdown",
   "metadata": {},
   "source": [
    "# 5. Data Cleaning\n",
    "Fix the inconsistencies within the data and handle the missing values"
   ]
  },
  {
   "cell_type": "markdown",
   "metadata": {},
   "source": [
    "## 5.1 City Disclosure"
   ]
  },
  {
   "cell_type": "code",
   "execution_count": null,
   "metadata": {},
   "outputs": [],
   "source": [
    "missing = cid[\"City\"].isna().sum() / len(cid[\"City\"]) * 100\n",
    "\n",
    "# plot pie chart to visualize missing values in City column\n",
    "size = [missing, 100-missing]\n",
    "labels = [\"Missing\", \"Existing\"]\n",
    "plt.pie(x=size, labels=labels,autopct=\"%1.1f%%\")\n",
    "plt.legend(labels)"
   ]
  },
  {
   "cell_type": "code",
   "execution_count": null,
   "metadata": {},
   "outputs": [],
   "source": [
    "# plot survey respondents per country\n",
    "plt.figure(figsize=(12,6))\n",
    "ax = sns.countplot(x=\"CDPRegion\",palette=\"viridis\", data=cid, order=cid[\"CDPRegion\"].value_counts().index)\n",
    "plt.xticks(rotation=70)\n",
    "plt.title(\"Survey Participation Distribution per Region\",{'fontsize': 12});"
   ]
  },
  {
   "cell_type": "markdown",
   "metadata": {},
   "source": [
    "## 5.2 City Responses"
   ]
  },
  {
   "cell_type": "markdown",
   "metadata": {},
   "source": [
    "## 5.3. Corporate Disclosure"
   ]
  },
  {
   "cell_type": "code",
   "execution_count": null,
   "metadata": {},
   "outputs": [],
   "source": [
    "#visualize corporate responses per survey theme and year\n",
    "cod[\"questionnaire\"].value_counts().plot(kind='bar')"
   ]
  },
  {
   "cell_type": "code",
   "execution_count": null,
   "metadata": {},
   "outputs": [],
   "source": [
    "#plot the most frequent sectors participating in the survey\n",
    "prob = cod[\"sectors\"].value_counts()\n",
    "threshold = 100\n",
    "mask = prob > threshold\n",
    "tail_prob = prob.loc[~mask].sum()\n",
    "prob = prob.loc[mask]\n",
    "prob['other'] = tail_prob\n",
    "prob.plot(kind='bar')\n",
    "plt.xticks(rotation=70)\n",
    "plt.show()"
   ]
  },
  {
   "cell_type": "code",
   "execution_count": null,
   "metadata": {},
   "outputs": [],
   "source": [
    "#Share of Top 5% sectors from all responses\n",
    "\n",
    "#check quantile distribution of sectors\n",
    "prob = df_corp_disc[\"sectors\"].value_counts()\n",
    "prob /= prob.sum()\n",
    "\n",
    "#split data into quantiles\n",
    "category_classes = pd.qcut(prob, q=[0, .25, 0.95, 1.], \n",
    "                           labels=['bottom 25%', 'mid 70%', 'top 5%'])\n",
    "prob_groups = prob.groupby(category_classes).sum()\n",
    "prob_groups.plot(kind='bar')\n",
    "plt.xticks(rotation=0)\n",
    "plt.show()"
   ]
  },
  {
   "cell_type": "code",
   "execution_count": null,
   "metadata": {},
   "outputs": [],
   "source": [
    "#Most frequent industries\n",
    "prob = cod[\"industries\"].value_counts()\n",
    "threshold = 140\n",
    "mask = prob > threshold\n",
    "tail_prob = prob.loc[~mask].sum()\n",
    "prob = prob.loc[mask]\n",
    "prob['other'] = tail_prob\n",
    "prob.plot(kind='bar')\n",
    "plt.xticks(rotation=70)\n",
    "plt.show()"
   ]
  },
  {
   "cell_type": "code",
   "execution_count": null,
   "metadata": {},
   "outputs": [],
   "source": [
    "#Share of top 5% industries\n",
    "\n",
    "prob = cod[\"industries\"].value_counts()\n",
    "prob /= prob.sum()\n",
    "\n",
    "#split data into quantiles\n",
    "category_classes = pd.qcut(prob, q=[0, .25, 0.95, 1.], \n",
    "                           labels=['bottom 25%', 'mid 70%', 'top 5%'])\n",
    "prob_groups = prob.groupby(category_classes).sum()\n",
    "prob_groups.plot(kind='bar')\n",
    "plt.xticks(rotation=0)\n",
    "plt.show()"
   ]
  },
  {
   "cell_type": "markdown",
   "metadata": {},
   "source": [
    "## 5.4 Corporate Responses"
   ]
  },
  {
   "cell_type": "code",
   "execution_count": null,
   "metadata": {},
   "outputs": [],
   "source": [
    "#Question number with the most responses\n",
    "top10_questions = cor.groupby(\"question_number\")[\"account_number\"].count().sort_values(ascending=False)[:10]\n",
    "top10_questions.plot(kind=\"barh\")"
   ]
  },
  {
   "cell_type": "code",
   "execution_count": null,
   "metadata": {},
   "outputs": [],
   "source": [
    "#create new copy of dataframe\n",
    "cor_cp = cor.copy()"
   ]
  },
  {
   "cell_type": "code",
   "execution_count": null,
   "metadata": {},
   "outputs": [],
   "source": [
    "cor_cp.drop(labels=['account_number','response_received_date', 'accounting_period_to', \n",
    "                'ors_response_id','submission_date', 'page_name',\n",
    "                'question_unique_reference', 'column_name','table_columns_unique_reference', \n",
    "                'row_number','row_name','data_point_id', 'comments'],\n",
    "        axis=1, \n",
    "        inplace=True)"
   ]
  },
  {
   "cell_type": "code",
   "execution_count": null,
   "metadata": {},
   "outputs": [],
   "source": [
    "#create new column to separate between water and climate questions\n",
    "\n",
    "#check first letter of question_number column\n",
    "char = cor_cp[\"question_number\"][0]\n",
    "cor_cp[\"topic\"] = [\"Climate\" if char.startswith(\"C\") == True else \"Water\" for char in df[\"question_number\"]]"
   ]
  },
  {
   "cell_type": "code",
   "execution_count": null,
   "metadata": {},
   "outputs": [],
   "source": [
    "#plot response frequency of different survey chapter separated between \"Climate\" and \"Water\" questions\n",
    "sns.countplot(data=cor_cp, x=\"module_name\", hue=\"topic\")\n",
    "plt.xticks(rotation=90)"
   ]
  },
  {
   "cell_type": "markdown",
   "metadata": {},
   "source": [
    "# 6. Data Exploration\n",
    "Form hypotheses about your defined problem by visually analyzing the data"
   ]
  },
  {
   "cell_type": "markdown",
   "metadata": {},
   "source": [
    "## 6.1 df_cities_disc"
   ]
  },
  {
   "cell_type": "markdown",
   "metadata": {},
   "source": [
    "## 6.2 df_cities_resp"
   ]
  },
  {
   "cell_type": "markdown",
   "metadata": {},
   "source": [
    "Compute the number of valid responses for each question to assess which questions we can focus on\n",
    "- Number of responses per question (Anzahl der Antworten pro Frage)\n",
    "- Distribution of responses (Verteilung der Antworten)\n",
    "- List of questions with large enough percentage of responses (Liste der Fragen mit einem ausreichend großen Prozentsatz von Antworten)"
   ]
  },
  {
   "cell_type": "code",
   "execution_count": null,
   "metadata": {},
   "outputs": [],
   "source": [
    "cir.head(3)"
   ]
  },
  {
   "cell_type": "code",
   "execution_count": null,
   "metadata": {},
   "outputs": [],
   "source": [
    "cir.info()"
   ]
  },
  {
   "cell_type": "code",
   "execution_count": null,
   "metadata": {},
   "outputs": [],
   "source": [
    "# Das heisst: Es gibt nur 1.141.308 Non-Null Antworten von 1.542.496"
   ]
  },
  {
   "cell_type": "code",
   "execution_count": null,
   "metadata": {},
   "outputs": [],
   "source": [
    "cir.describe()"
   ]
  },
  {
   "cell_type": "code",
   "execution_count": null,
   "metadata": {},
   "outputs": [],
   "source": [
    "# Anzahl der Antworten nach Jahren:\n",
    "cir['YearReportedtoCDP'].value_counts()"
   ]
  },
  {
   "cell_type": "code",
   "execution_count": null,
   "metadata": {},
   "outputs": [],
   "source": [
    "cir_notna = cir[cir['ResponseAnswer'].notna()]\n",
    "cir_notna.shape"
   ]
  },
  {
   "cell_type": "code",
   "execution_count": null,
   "metadata": {},
   "outputs": [],
   "source": [
    "# Anzahl der Antworten (nicht NaN) nach Jahren:\n",
    "cir_notna['YearReportedtoCDP'].value_counts()"
   ]
  },
  {
   "cell_type": "code",
   "execution_count": null,
   "metadata": {},
   "outputs": [],
   "source": [
    "# Anzahl der Organisationen mit Antworten:\n",
    "len(cir_notna['Organization'].value_counts())"
   ]
  },
  {
   "cell_type": "code",
   "execution_count": null,
   "metadata": {},
   "outputs": [],
   "source": [
    "# Anzahl der Organisationen mit Antworten in 2018:\n",
    "len(cir_notna[cir_notna['YearReportedtoCDP'] == 2018]['AccountNumber'].value_counts())"
   ]
  },
  {
   "cell_type": "code",
   "execution_count": null,
   "metadata": {},
   "outputs": [],
   "source": [
    "# Anzahl der Organisationen mit Antworten in 2019:\n",
    "len(cir_notna[cir_notna['YearReportedtoCDP'] == 2019]['AccountNumber'].value_counts())"
   ]
  },
  {
   "cell_type": "code",
   "execution_count": null,
   "metadata": {},
   "outputs": [],
   "source": [
    "# Anzahl der Organisationen mit Antworten in 2020:\n",
    "len(cir_notna[cir_notna['YearReportedtoCDP'] == 2020]['AccountNumber'].value_counts())"
   ]
  },
  {
   "cell_type": "code",
   "execution_count": null,
   "metadata": {},
   "outputs": [],
   "source": [
    "# Anzahl der Antworten pro Frage (alle Jahre):\n",
    "answers = pd.DataFrame(cir_notna.groupby(['YearReportedtoCDP','QuestionNumber','ColumnNumber']).count()['ResponseAnswer'],)"
   ]
  },
  {
   "cell_type": "code",
   "execution_count": null,
   "metadata": {},
   "outputs": [],
   "source": [
    "answers.to_csv('data/Cities/Responses/answers.csv',index=True)"
   ]
  },
  {
   "cell_type": "code",
   "execution_count": null,
   "metadata": {},
   "outputs": [],
   "source": [
    "cir_notna.groupby['YearReportedtoCDP','QuestionNumber','ColumnNumber']"
   ]
  },
  {
   "cell_type": "code",
   "execution_count": null,
   "metadata": {},
   "outputs": [],
   "source": [
    "# cir Datensätze reduzieren für besseres Handling\n",
    "cir10 = resample(cir,\n",
    "                 replace=False,      # sample without replacement\n",
    "                 n_samples=10000,    # to match minority class\n",
    "                 random_state=RSEED) # reproducible results"
   ]
  },
  {
   "cell_type": "code",
   "execution_count": null,
   "metadata": {},
   "outputs": [],
   "source": [
    "cir10.to_csv('data/Cities/Responses/cir10.csv',index=False)"
   ]
  },
  {
   "cell_type": "code",
   "execution_count": null,
   "metadata": {},
   "outputs": [],
   "source": [
    "# Anzahl der Antworten (nicht NaN) nach Jahren:\n",
    "print(cir10.shape)\n",
    "print(cir10[cir10['ResponseAnswer'].notna()].shape)\n",
    "cir10[cir10['ResponseAnswer'].notna()]['YearReportedtoCDP'].value_counts()"
   ]
  },
  {
   "cell_type": "code",
   "execution_count": null,
   "metadata": {},
   "outputs": [],
   "source": [
    "cir10[cir10['ResponseAnswer'].notna()].head()"
   ]
  },
  {
   "cell_type": "code",
   "execution_count": null,
   "metadata": {},
   "outputs": [],
   "source": [
    "# Anzahl der \n",
    "cir10['YearReportedtoCDP'].value_counts()"
   ]
  },
  {
   "cell_type": "code",
   "execution_count": null,
   "metadata": {},
   "outputs": [],
   "source": [
    "# Anzahl der abgegebenen Antworten nach Jahren:\n",
    "select.groupby('YearReportedtoCDP').count()['ResponseAnswer']"
   ]
  },
  {
   "cell_type": "code",
   "execution_count": null,
   "metadata": {},
   "outputs": [],
   "source": [
    "responses = select.groupby(['YearReportedtoCDP','QuestionNumber','ColumnNumber']).count()['ResponseAnswer'] #.to_csv('data/Cities/Responses/responses.csv',index=False)"
   ]
  },
  {
   "cell_type": "code",
   "execution_count": null,
   "metadata": {},
   "outputs": [],
   "source": [
    "responses"
   ]
  },
  {
   "cell_type": "code",
   "execution_count": null,
   "metadata": {},
   "outputs": [],
   "source": [
    "def question_to_col(data, QuestionNumber, ColumnNumber):\n",
    "    '''A simple function to create a new dataframe with all responses to one question.'''\n",
    "    small_df = pd.DataFrame(columns=[QuestionNumber])\n",
    "    small_df[QuestionNumber] = data['ResponseAnswer'].loc[(data['QuestionNumber'] == QuestionNumber) & (data['ColumnNumber'] == int(ColumnNumber))]\n",
    "    return small_df"
   ]
  },
  {
   "cell_type": "markdown",
   "metadata": {},
   "source": [
    "## 6.3 df_corp_disc"
   ]
  },
  {
   "cell_type": "markdown",
   "metadata": {},
   "source": [
    "## 6.4 df_corp_resp"
   ]
  },
  {
   "cell_type": "markdown",
   "metadata": {},
   "source": [
    "# 7. Feature Engineering\n",
    "Select important features and construct more meaningful ones using the raw data that you have"
   ]
  }
 ],
 "metadata": {
  "kernelspec": {
   "display_name": "Python 3",
   "language": "python",
   "name": "python3"
  },
  "language_info": {
   "codemirror_mode": {
    "name": "ipython",
    "version": 3
   },
   "file_extension": ".py",
   "mimetype": "text/x-python",
   "name": "python",
   "nbconvert_exporter": "python",
   "pygments_lexer": "ipython3",
   "version": "3.6.10"
  },
  "toc": {
   "base_numbering": 1,
   "nav_menu": {},
   "number_sections": true,
   "sideBar": true,
   "skip_h1_title": false,
   "title_cell": "Table of Contents",
   "title_sidebar": "Contents",
   "toc_cell": false,
   "toc_position": {},
   "toc_section_display": true,
   "toc_window_display": false
  },
  "varInspector": {
   "cols": {
    "lenName": 16,
    "lenType": 16,
    "lenVar": 40
   },
   "kernels_config": {
    "python": {
     "delete_cmd_postfix": "",
     "delete_cmd_prefix": "del ",
     "library": "var_list.py",
     "varRefreshCmd": "print(var_dic_list())"
    },
    "r": {
     "delete_cmd_postfix": ") ",
     "delete_cmd_prefix": "rm(",
     "library": "var_list.r",
     "varRefreshCmd": "cat(var_dic_list()) "
    }
   },
   "types_to_exclude": [
    "module",
    "function",
    "builtin_function_or_method",
    "instance",
    "_Feature"
   ],
   "window_display": false
  }
 },
 "nbformat": 4,
 "nbformat_minor": 1
}
