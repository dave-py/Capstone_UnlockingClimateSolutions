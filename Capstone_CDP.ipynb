{
 "cells": [
  {
   "cell_type": "code",
   "execution_count": null,
   "metadata": {},
   "outputs": [],
   "source": [
    "import pandas as pd\n",
    "import numpy as np\n",
    "import glob\n",
    "import os\n",
    "from methods import get_response_pivot"
   ]
  },
  {
   "cell_type": "markdown",
   "metadata": {},
   "source": [
    "# Import data frames"
   ]
  },
  {
   "cell_type": "markdown",
   "metadata": {},
   "source": [
    "First, we start by importing the different csv files and continue by concatenating the files into one dataframe."
   ]
  },
  {
   "cell_type": "code",
   "execution_count": null,
   "metadata": {},
   "outputs": [],
   "source": [
    "def get_data(path, filename_start):\n",
    "    '''a function to store the content of a directory into a pd dataframe'''\n",
    "    \n",
    "    # checking the contents of the directory using the os-module. \n",
    "    files = [\n",
    "        file for file in os.listdir(path) \n",
    "        if file.startswith(filename_start)\n",
    "        ]\n",
    "    \n",
    "    print(files)  \n",
    "    \n",
    "    # iterate through files and add to the data frame\n",
    "    all_data = pd.DataFrame()\n",
    "    for file in files:\n",
    "        current_data = pd.read_csv(path+\"/\"+file, dtype={'comments': str})\n",
    "        all_data = pd.concat([all_data, current_data], ignore_index=True)\n",
    "\n",
    "    # remove whitespaces from column names\n",
    "    all_data.columns = all_data.columns.str.replace(' ', '')\n",
    "        \n",
    "    print(f'''A dataframe with {all_data.shape[0]} rows and {all_data.shape[1]} columns has been created!\\nAll whitespace in column names has been removed.''')\n",
    "    \n",
    "    return all_data"
   ]
  },
  {
   "cell_type": "markdown",
   "metadata": {},
   "source": [
    "## Cities Disclosing / Responses"
   ]
  },
  {
   "cell_type": "code",
   "execution_count": null,
   "metadata": {},
   "outputs": [],
   "source": [
    "# add all cities disclosings to a dateframe\n",
    "df_cities_disc = get_data(\n",
    "    path='data/Cities/Disclosing',\n",
    "    filename_start='20'\n",
    "    )"
   ]
  },
  {
   "cell_type": "code",
   "execution_count": null,
   "metadata": {},
   "outputs": [],
   "source": [
    "# add all cities responses to a dateframe\n",
    "df_cities_resp = get_data(\n",
    "    path='data/Cities/Responses',\n",
    "    filename_start='20'\n",
    "    )"
   ]
  },
  {
   "cell_type": "markdown",
   "metadata": {},
   "source": [
    "## Corporates Disclosing / Responses"
   ]
  },
  {
   "cell_type": "code",
   "execution_count": null,
   "metadata": {},
   "outputs": [],
   "source": [
    "# add all corporates disclosings to a dateframe\n",
    "df_corp_disc = get_data(\n",
    "    path='data/Corporations/Disclosing',\n",
    "    filename_start='20'\n",
    "    )"
   ]
  },
  {
   "cell_type": "code",
   "execution_count": null,
   "metadata": {},
   "outputs": [],
   "source": [
    "# add all corporates  responses to a dateframe\n",
    "df_corp_resp = get_data(\n",
    "    path='data/Corporations/Responses',\n",
    "    filename_start='20'\n",
    "    )"
   ]
  },
  {
   "cell_type": "markdown",
   "metadata": {},
   "source": [
    "# Dataframe Description"
   ]
  },
  {
   "cell_type": "markdown",
   "metadata": {},
   "source": [
    "## Cities"
   ]
  },
  {
   "cell_type": "markdown",
   "metadata": {},
   "source": [
    "Below is a description of the columns for the **City Disclosures**:\n",
    "\n",
    "**Year Reported to CDP** : Cities Disclosure cycle survey year  \n",
    "\n",
    "**Account Number** : The unique identifier given to every city organisation that receives a request to complete a CDP questionnaire  \n",
    "\n",
    "**Organization**: Name of the City organisation disclosing  \n",
    "\n",
    "**City**: Name of the City the city organisation is disclosing on behalf of  \n",
    "\n",
    "**Country**: Country of city  \n",
    "\n",
    "**CDP Region**: CDP operation region City is located within  \n",
    "\n",
    "**Reporting Authority**: \"CDP collects information on behalf of a number of additional initiatives. Other than CDP Cities, organisations can indicate the additional initiatve they are have answered questions for \",\"C40,CDP Cities,ICLEI - Local Governments for Sustainability\",\"Includes Global Covenant of Mayors for Climate and Energy, ICLEI Green Climate Cities, ICLEI Ecomobility / Ecologistics, C40 Cities Climate Leadership Group\"  \n",
    "\n",
    "**Access**: Cities can submit CDP response in public status or in non public status. Non public responses can only be shared within CDP and between signatory partners. Public responses can be shared beyond CDP City organisations,public  \n",
    "\n",
    "**First Time Discloser**: Is the City disclosing for the first time to CDP  \n",
    "\n",
    "**Population**: Citiy population estimate  \n",
    "\n",
    "**Population Year**: City population estimate year  \n",
    "\n",
    "**City Location**: \"Citty location cordinates by longitude, latitide\"  \n",
    "\n",
    "**Last update**: Resonse record last update  "
   ]
  },
  {
   "cell_type": "markdown",
   "metadata": {},
   "source": [
    "*Below is a description of the column types for **City Responses**:*  \n",
    "\n",
    "\n",
    "**Questionnaire** : Questionnaire and questionnaire year the company's response relates to\n",
    "\n",
    "**Year Reported to CDP** : Cities Disclosure cycle survey year  \n",
    "\n",
    "**Account Number** : The unique identifier given to every city organisation that receives a request to complete a CDP questionnaire  \n",
    "\n",
    "**Organization** : Name of the City organisation disclosing  \n",
    "\n",
    "**Country** : Country of city    \n",
    "\n",
    "**CDP Region** : CDP operation region City is located within  \n",
    "\n",
    "**Parent Section** : Module ('Parent Section') of the CDP questionnaire the question belongs to (e.g. Emissions Reduction)  \n",
    "\n",
    "**Section** : Section of the CDP questionnaire the question belongs to (e.g.Mitigation Actions)  \n",
    "\n",
    "**Question Number** : Question number of response (e.g. 5.4) \n",
    " \n",
    "**Question Name** : Describes the anticipated outcomes of the most impactful mitigation actions your city is currently undertaking; the total cost of the action and how much is being funded by the local government \n",
    "\n",
    "**Column Number** : Column number of matrix set (Table) or matrix dynamic (Add Rows Table) column in question  reponse table  \n",
    "\n",
    "**Column Name** : Column name of matrix set (Table) or matrix dynamic (Add Rows Table) column in question  reponse table,Co-benefit area \n",
    "\n",
    "**Row Number** : \"Row number of matrix set (Table) or matrix dynamic (Add Rows Table) row in question  reponse table. If originally submitted in a table format, this will indicate the number of rows of response data has been entered in response to a question. \",  \n",
    "\n",
    "**Row Name** : Row name of matrix set (Table) or matrix dynamic (Add Rows Table) row in question  reponse table. Description of data type for RowNumber where applicable, Population that is food insecure)  \n",
    "\n",
    "**Response Answer** : Question response submitted by company,Greening the economy,\"Can range from string, integar and double data types. Question not applicable = This question was not presented to the company to be answered due to conditional logic in the questionnaire. NA = The company was presented with this question but did not respond\"  "
   ]
  },
  {
   "cell_type": "markdown",
   "metadata": {},
   "source": [
    "## Corporates"
   ]
  },
  {
   "cell_type": "markdown",
   "metadata": {},
   "source": [
    "Below is a description of the columns for the **Corporate Disclosures**:\n",
    "\n",
    "**account_number**: The unique identifier given to every company that receives a request to complete a CDP questionnaire.\n",
    "\n",
    "**organization**: Name of the company disclosing.\n",
    "\n",
    "**survey_year**: Disclosure cycle survey year. (E.g. survey year 2020 ran from March 2020 - September 2020)\n",
    "\n",
    "**country**: Country in which the company is incorporated or legally registered.\n",
    "\n",
    "**region**: CDP operating region in which the company is incorporated or legally registered.\n",
    "\n",
    "**invitation_status**: CDP invites companies to disclose to the Investor request. If they choose to disclose, they will appear as \"\"submitted\"\".\n",
    "\n",
    "**public**: Companies can submit CDP response in public status or in non public status. Non public responses can only be shared within CDP. Public responses can be shared beyond CDP investor signatories.\n",
    "\n",
    "**samples**: CDP uses Market Cap from major indices and other environmental factors to help determine who should be requested to respond. Company's are distributed among sample groups to group similar organisations for targetted  invitations to disclose etc.(Continuity, Companies that disclosed the previous year are automatically requested to disclose the following year.)\n",
    "\n",
    "**response_received_date**: DateTime company response was first received within CDP response systems,2018-08-15T00:00:00Z\n",
    "\n",
    "**minimum_tier**: Indicates if the highest questionnaire tier a company has responded to. Company's can choose or are requested to submit to a shorter 'Minimum tier' questionnaire or a more in-depth 'Full tier' questionnaire with extended questions. Certain questions are therefore only available in the Full questionnaire.\n",
    "\n",
    "**selected_tier**: Indicates if the questionnaire tier a company has responded to. Company's can choose or are requested to submit to a shorter 'Minimum tier' questionnaire or a more in-depth 'Full tier' questionnaire with extended questions.  Certain questions are therefore only available in the Full questionnaire. \n",
    "\n",
    "**questionnaire**: Questionnaire and questionnaire year the company's response relates to.\n",
    "\n",
    "**theme**: Questionnaire Theme the company's response relates to.\n",
    "\n",
    "**authority_types**: Company's can be requested to respond to the CDP questionnaire by either/both CDP investor signatories and CDP Supply Chain members as suppliers that constititute their supply chain operations.\n",
    "\n",
    "**activities**: CDP Activity Classification System categorizes companies according to their different business streams, revenue and impact on the environment. All  company's potential  business activities based on revenue, within the CDP Activity Classification System (e.g. Aluminium refining, Aluminum, Engines & motors, Fabricated metal components, Other vehicle equipment & systems). \n",
    "\n",
    "**sectors**: CDP Activity Classification System categorizes companies according to their different business streams, revenue and impact on the environment. All  company's  potential business sectors based on revenue, within the CDP Activity Classification System (e.g. Metal products manufacturing, Metal smelting, refining & forming, Powered machinery). \n",
    "\n",
    "**industries**: CDP Activity Classification System categorizes companies according to their different business streams, revenue and impact on the environment.  All  company's  potential business industries based on revenue, within the CDP Activity Classification System (e.g. Manufacturing, Materials).\n",
    "\n",
    "**primary_activity**: CDP Activity Classification System categorizes companies according to their different business streams, revenue and impact on the environment. A company's primary business activity based on revenue; the most specific classification of three tiers in the CDP Activity Classification System.\n",
    "\n",
    "**primary_sector**: CDP Activity Classification System categorizes companies according to their different business streams, revenue and impact on the environment. A company's primary business sector based on revenue; the second most specific classification of three tiers in the CDP Activity Classification System (e.g. Powered machinery)\n",
    "\n",
    "**primary_industry**: CDP Activity Classification System categorizes companies according to their different business streams, revenue and impact on the environment. A company's primary industry based on revenue; the broadest classification of three tiers in the CDP Activity Classification System.\n",
    "\n",
    "**primary_questionnaire_sector**: Describes the sector-specific questionnaire that was provided to the company based on their largest activity, if this version of the general questoinnaire was available.\n",
    "\n",
    "**primary_ticker**: Financial  Market identifier for company.\n",
    "\n",
    "**tickers**: Market identifiers (if more than one).\n",
    "\n",
    "\n"
   ]
  },
  {
   "cell_type": "markdown",
   "metadata": {},
   "source": [
    "Below is a description of the columns for the **Corporate Responses**:\n",
    "\n",
    "**account_number**:\tThe unique identifier given to every company that receives a request to complete a CDP questionnaire.\n",
    "\n",
    "**organization**: Name of the company disclosing.\n",
    "\n",
    "**survey_year**: Disclosure cycle survey year. \n",
    "\n",
    "**response_received_date**:\tDateTime company response was first received within CDP response systems.\n",
    "\n",
    "**accounting_period_to**: Accounting year end for the survey responses provided by the Company.\n",
    "\n",
    "**ors_response_id**: Response Identifier for all responses belonging to that company and theme.\n",
    "\n",
    "**submission_date**: DateTime company response was finalised and submitted to CDP with no further amendments.\n",
    "\n",
    "**page_name**:\tSection of the CDP questionnaire the question belongs to.\n",
    "\n",
    "**module_name**:\tModule ('Parent Section') of the CDP questionnaire the question belongs to e.g.Questions.\n",
    "\n",
    "**question_number**:\tQuestion number of response.\n",
    "\n",
    "**question_unique_reference**: Question name.\n",
    "\n",
    "**colmn_number**: Column number of matrix set (Table) or matrix dynamic (Add Rows Table) column in question  reponse table.\n",
    "\n",
    "**column_name**\tColumn name of matrix set (Table) or matrix dynamic (Add Rows Table) column in question  reponse table.\n",
    "\n",
    "**table_columns_unique_reference**:\tColumn name and number combination modified with '-' seperator from column_name, providing unique column identifer for each question response.\n",
    "\n",
    "**row_number**:\tRow number of matrix set (Table) or matrix dynamic (Add Rows Table) row in question  reponse table. If originally submitted in a table format, this will indicate the number of rows of response data has been entered in response to a question.\n",
    "\n",
    "**row_name**:\tRow name of matrix set (Table) or matrix dynamic (Add Rows Table) row in question  reponse table. Description of data type for RowNumber where applicable (i.e. Scope 3 emissions category).\n",
    "\n",
    "**data_point_name**:\tQuestion number_Column number_Question Name - Column Name string identifier. Unique reference to questionnumbers in older questionnaires.\n",
    "\n",
    "**data_point_id**:\tUnique identifier for Question Column Response.\n",
    "\n",
    "**response_value**:\tQuestion response submitted by company.\n",
    "\n",
    "**comments**:\tAdded response clarifications from Company or CDP staff."
   ]
  },
  {
   "cell_type": "markdown",
   "metadata": {},
   "source": [
    "# Data Content"
   ]
  },
  {
   "cell_type": "code",
   "execution_count": null,
   "metadata": {},
   "outputs": [],
   "source": [
    "df_cities_resp.value_counts('Questionnaire')"
   ]
  },
  {
   "cell_type": "code",
   "execution_count": null,
   "metadata": {},
   "outputs": [],
   "source": [
    "df_cities_resp.query('QuestionNumber == \"14.4\" & Questionnaire == \"Cities 2020\"')"
   ]
  },
  {
   "cell_type": "code",
   "execution_count": null,
   "metadata": {},
   "outputs": [],
   "source": [
    "plt.figure(figsize=(12,6))\n",
    "ax = sns.countplot(x=\"CDPRegion\",palette=\"viridis\", data=df_cities_disc, order=df_cities_disc[\"CDPRegion\"].value_counts().index)\n",
    "plt.xticks(rotation=70)\n",
    "plt.title(\"Survey Participation Distribution per Region\",{'fontsize': 12});"
   ]
  },
  {
   "cell_type": "code",
   "execution_count": null,
   "metadata": {},
   "outputs": [],
   "source": [
    "def question_to_col(data, QuestionNumber, ColumnNumber):\n",
    "    '''A simple function to create a new dataframe with all responses to one question.'''\n",
    "    small_df = pd.DataFrame(columns=[QuestionNumber])\n",
    "    small_df[QuestionNumber] = data['ResponseAnswer'].loc[(data['QuestionNumber'] == QuestionNumber) & (data['ColumnNumber'] == int(ColumnNumber))]\n",
    "    return small_df"
   ]
  },
  {
   "cell_type": "code",
   "execution_count": null,
   "metadata": {},
   "outputs": [],
   "source": [
    "question_to_col(data=df_cities_resp, QuestionNumber='2.1', ColumnNumber='1')"
   ]
  }
 ],
 "metadata": {
  "kernelspec": {
   "display_name": "Python 3",
   "language": "python",
   "name": "python3"
  },
  "language_info": {
   "codemirror_mode": {
    "name": "ipython",
    "version": 3
   },
   "file_extension": ".py",
   "mimetype": "text/x-python",
   "name": "python",
   "nbconvert_exporter": "python",
   "pygments_lexer": "ipython3",
   "version": "3.6.10"
  },
  "toc": {
   "base_numbering": 1,
   "nav_menu": {},
   "number_sections": true,
   "sideBar": true,
   "skip_h1_title": false,
   "title_cell": "Table of Contents",
   "title_sidebar": "Contents",
   "toc_cell": false,
   "toc_position": {},
   "toc_section_display": true,
   "toc_window_display": false
  },
  "varInspector": {
   "cols": {
    "lenName": 16,
    "lenType": 16,
    "lenVar": 40
   },
   "kernels_config": {
    "python": {
     "delete_cmd_postfix": "",
     "delete_cmd_prefix": "del ",
     "library": "var_list.py",
     "varRefreshCmd": "print(var_dic_list())"
    },
    "r": {
     "delete_cmd_postfix": ") ",
     "delete_cmd_prefix": "rm(",
     "library": "var_list.r",
     "varRefreshCmd": "cat(var_dic_list()) "
    }
   },
   "types_to_exclude": [
    "module",
    "function",
    "builtin_function_or_method",
    "instance",
    "_Feature"
   ],
   "window_display": false
  }
 },
 "nbformat": 4,
 "nbformat_minor": 1
}